{
 "cells": [
  {
   "cell_type": "code",
   "execution_count": 28,
   "metadata": {
    "collapsed": false
   },
   "outputs": [],
   "source": [
    "import netCDF4 as nc\n",
    "import rasterio as rio\n",
    "import numpy as np\n",
    "import urllib.request"
   ]
  },
  {
   "cell_type": "code",
   "execution_count": 29,
   "metadata": {
    "collapsed": false
   },
   "outputs": [
    {
     "data": {
      "text/plain": [
       "('/Users/nathansuberi/Downloads/air.2x2.250.mon.anom.comb2.nc',\n",
       " <email.message.Message at 0x1188250b8>)"
      ]
     },
     "execution_count": 29,
     "metadata": {},
     "output_type": "execute_result"
    }
   ],
   "source": [
    "urllib.request.urlretrieve('ftp://ftp.cdc.noaa.gov/Datasets/gistemp/combined/250km/air.2x2.250.mon.anom.comb.nc', '/Users/nathansuberi/Downloads/air.2x2.250.mon.anom.comb2.nc')"
   ]
  },
  {
   "cell_type": "code",
   "execution_count": 33,
   "metadata": {
    "collapsed": true
   },
   "outputs": [],
   "source": [
    "gistemp = nc.Dataset('/Users/nathansuberi/Downloads/air.2x2.250.mon.anom.comb2.nc')"
   ]
  },
  {
   "cell_type": "code",
   "execution_count": 32,
   "metadata": {
    "collapsed": false
   },
   "outputs": [
    {
     "data": {
      "text/plain": [
       "<class 'netCDF4._netCDF4.Dataset'>\n",
       "root group (NETCDF4_CLASSIC data model, file format HDF5):\n",
       "    title: GISS Surface Temperature Analysis (GISTEMP): 250km smoothing combined land/ocean\n",
       "    comments: This is the 250km smoothed combined land,ocean version of the dataset on a 2x2 grid. SST dataset used at NASA is now ERSST\n",
       "    platform: Analysis\n",
       "    Source: http://data.giss.nasa.gov/gistemp/ source and http://data.giss.nasa.gov/pub/gistemp/ data\n",
       "    Documentation: http://www.esrl.noaa.gov/psd/data/gridded/data.gistemp.html\n",
       "    references: http://www.esrl.noaa.gov/psd/data/gridded/data.gistemp.html\n",
       "    Conventions: COARDS\n",
       "    history: created at PSD Jun 2009 by CAS. Converted to chunked, deflated non-packed NetCDF4 2014/06\n",
       "    dataset_title: GISS Surface Temperature Analysis\n",
       "    dimensions(sizes): lon(180), lat(90), time(1658), nbnds(2)\n",
       "    variables(dimensions): float32 \u001b[4mlat\u001b[0m(lat), float32 \u001b[4mlon\u001b[0m(lon), float64 \u001b[4mtime\u001b[0m(time), float32 \u001b[4mair\u001b[0m(time,lat,lon)\n",
       "    groups: "
      ]
     },
     "execution_count": 32,
     "metadata": {},
     "output_type": "execute_result"
    }
   ],
   "source": [
    "gistemp"
   ]
  },
  {
   "cell_type": "code",
   "execution_count": 23,
   "metadata": {
    "collapsed": false
   },
   "outputs": [],
   "source": [
    "data = gistemp['air'][0,:,:].data\n",
    "data2 = np.zeros(data.shape)\n",
    "data2[:,:90] = data[:,90:]\n",
    "data2[:,90:] = data[:,:90]\n"
   ]
  },
  {
   "cell_type": "code",
   "execution_count": 26,
   "metadata": {
    "collapsed": false
   },
   "outputs": [
    {
     "data": {
      "text/plain": [
       "(90, 90)"
      ]
     },
     "execution_count": 26,
     "metadata": {},
     "output_type": "execute_result"
    }
   ],
   "source": [
    "data[:,90:].shape\n",
    "data[:,:90].shape"
   ]
  },
  {
   "cell_type": "code",
   "execution_count": 15,
   "metadata": {
    "collapsed": false
   },
   "outputs": [],
   "source": [
    "south_lat = -90\n",
    "north_lat = 90\n",
    "west_lon = -180\n",
    "east_lon = 180\n",
    "# Transformation function\n",
    "transform = rio.transform.from_bounds(west_lon, south_lat, east_lon, north_lat, data.shape[1], data.shape[0])\n",
    "# Profile\n",
    "profile = {\n",
    "    'driver':'GTiff',\n",
    "    'height':data.shape[0],\n",
    "    'width':data.shape[1],\n",
    "    'count':1,\n",
    "    'dtype':rio.float32,\n",
    "    'crs':'EPSG:4326',\n",
    "    'transform':transform,\n",
    "    'compress':'lzw',\n",
    "    'nodata':9999.\n",
    "}"
   ]
  },
  {
   "cell_type": "code",
   "execution_count": 24,
   "metadata": {
    "collapsed": false
   },
   "outputs": [],
   "source": [
    "with rio.open('tmpfile_shifted.tif', 'w', **profile) as dst:\n",
    "    dst.write(data2.astype(rio.float32), indexes=1)"
   ]
  },
  {
   "cell_type": "code",
   "execution_count": null,
   "metadata": {
    "collapsed": true
   },
   "outputs": [],
   "source": []
  }
 ],
 "metadata": {
  "kernelspec": {
   "display_name": "Python 3",
   "language": "python",
   "name": "python3"
  },
  "language_info": {
   "codemirror_mode": {
    "name": "ipython",
    "version": 3
   },
   "file_extension": ".py",
   "mimetype": "text/x-python",
   "name": "python",
   "nbconvert_exporter": "python",
   "pygments_lexer": "ipython3",
   "version": "3.6.0"
  }
 },
 "nbformat": 4,
 "nbformat_minor": 2
}
