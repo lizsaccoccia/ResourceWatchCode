{
 "cells": [
  {
   "cell_type": "markdown",
   "metadata": {},
   "source": [
    "# Import libraries"
   ]
  },
  {
   "cell_type": "code",
   "execution_count": 8,
   "metadata": {
    "collapsed": true
   },
   "outputs": [],
   "source": [
    "import requests as req\n",
    "import pandas as pd\n",
    "import os\n",
    "from functools import reduce\n",
    "import json\n",
    "import logging\n",
    "import sys\n",
    "\n",
    "logging.basicConfig(stream=sys.stderr, level=logging.INFO)"
   ]
  },
  {
   "cell_type": "markdown",
   "metadata": {},
   "source": [
    "# Authenticate to API"
   ]
  },
  {
   "cell_type": "code",
   "execution_count": 31,
   "metadata": {
    "collapsed": true
   },
   "outputs": [],
   "source": [
    "from configparser import ConfigParser\n",
    "config = ConfigParser()\n",
    "config.read(\"/Users/nathansuberi/Desktop/WRI_Programming/cred/.env\")\n",
    "api_token = config.get(\"auth\", \"rw_api_token\")\n",
    "\n",
    "AUTH_TOKEN = api_token # <Insert Auth Token Here>"
   ]
  },
  {
   "cell_type": "markdown",
   "metadata": {},
   "source": [
    "# Download upload config"
   ]
  },
  {
   "cell_type": "code",
   "execution_count": 59,
   "metadata": {
    "collapsed": false
   },
   "outputs": [
    {
     "name": "stdout",
     "output_type": "stream",
     "text": [
      "  % Total    % Received % Xferd  Average Speed   Time    Time     Time  Current\n",
      "                                 Dload  Upload   Total   Spent    Left  Speed\n",
      "100   667    0   667    0     0    683      0 --:--:-- --:--:-- --:--:--   684\n"
     ]
    }
   ],
   "source": [
    "#### Download Google Spreadsheets ####\n",
    "# ImageCollection Upload Config\n",
    "!curl \"https://docs.google.com/spreadsheets/d/1NCL998eESaXcodvzTE7e9_zpBxVAG4HiQXpzP1E_Cpk/export?format=tsv\" > ic_upload_config.tsv\n",
    "ic_upload_config = pd.read_csv(open(\"ic_upload_config.tsv\", \"r\"), sep=\"\\t\", index_col=None)\n",
    "os.remove(\"ic_upload_config.tsv\")"
   ]
  },
  {
   "cell_type": "code",
   "execution_count": 60,
   "metadata": {
    "collapsed": false
   },
   "outputs": [
    {
     "data": {
      "text/html": [
       "<div>\n",
       "<style>\n",
       "    .dataframe thead tr:only-child th {\n",
       "        text-align: right;\n",
       "    }\n",
       "\n",
       "    .dataframe thead th {\n",
       "        text-align: left;\n",
       "    }\n",
       "\n",
       "    .dataframe tbody tr th {\n",
       "        vertical-align: top;\n",
       "    }\n",
       "</style>\n",
       "<table border=\"1\" class=\"dataframe\">\n",
       "  <thead>\n",
       "    <tr style=\"text-align: right;\">\n",
       "      <th></th>\n",
       "      <th>wri_id</th>\n",
       "      <th>imageCollectionName</th>\n",
       "      <th>datasetName</th>\n",
       "      <th>SLD</th>\n",
       "    </tr>\n",
       "  </thead>\n",
       "  <tbody>\n",
       "    <tr>\n",
       "      <th>0</th>\n",
       "      <td>foo_051</td>\n",
       "      <td>users/resourcewatch_wri/foo_051_vegetation_con...</td>\n",
       "      <td>Vegetation Condition Index (NDVI anomalies)</td>\n",
       "      <td>&lt;RasterSymbolizer&gt; &lt;ColorMap type=\"intervals\" ...</td>\n",
       "    </tr>\n",
       "  </tbody>\n",
       "</table>\n",
       "</div>"
      ],
      "text/plain": [
       "    wri_id                                imageCollectionName  \\\n",
       "0  foo_051  users/resourcewatch_wri/foo_051_vegetation_con...   \n",
       "\n",
       "                                   datasetName  \\\n",
       "0  Vegetation Condition Index (NDVI anomalies)   \n",
       "\n",
       "                                                 SLD  \n",
       "0  <RasterSymbolizer> <ColorMap type=\"intervals\" ...  "
      ]
     },
     "execution_count": 60,
     "metadata": {},
     "output_type": "execute_result"
    }
   ],
   "source": [
    "ic_upload_config"
   ]
  },
  {
   "cell_type": "markdown",
   "metadata": {},
   "source": [
    "# Helper functions"
   ]
  },
  {
   "cell_type": "code",
   "execution_count": 20,
   "metadata": {
    "collapsed": true
   },
   "outputs": [],
   "source": [
    "def createHeaders():\n",
    "    return {\n",
    "        'content-type': \"application/json\",\n",
    "        'authorization': \"Bearer {}\".format( AUTH_TOKEN )\n",
    "    }\n",
    "\n",
    "def upload_ic_to_backoffice(wri_id, imageCollectionName, datasetName):\n",
    "    \n",
    "    ds_specs = {\n",
    "        \"connectorType\":\"rest\",\n",
    "        \"provider\":\"gee\",\n",
    "        \"tableName\":imageCollectionName,\n",
    "        \"application\":[\"rw\"],\n",
    "        \"geoInfo\":True,\n",
    "        \"type\":\"raster\",\n",
    "        \"name\":\"{}_{}\".format(wri_id, datasetName)\n",
    "    }\n",
    "\n",
    "    create_res = req.request(\"POST\", \n",
    "                      'https://staging-api.globalforestwatch.org/v1/dataset', \n",
    "                      data=json.dumps(ds_specs), \n",
    "                      headers = createHeaders())\n",
    "\n",
    "    logging.info(create_res.text)\n",
    "\n",
    "    return create_res.json()['data']['id']\n",
    "\n",
    "\n",
    "def autogen_layer_def(imageCollectionName, layerName, sld):  \n",
    "    \n",
    "    layer_template = {\n",
    "        \"name\":layerName,\n",
    "        \"application\":[\"rw\"],\"iso\":[],\n",
    "        \"default\":True,\n",
    "        \"protected\":False,\n",
    "        \"layerConfig\":{\n",
    "            \"type\":\"gee\",\n",
    "            \"position\":\"last\",\n",
    "            \"isImageCollection\":True,\n",
    "            #\"filterDates\":[\"2010-01-01\",\"2017-10-24\"],\n",
    "            \"assetId\":imageCollectionName,\n",
    "            \"body\":{\n",
    "                \"styleType\":\"sld\",\n",
    "                \"sldValue\":sld\n",
    "            }},\n",
    "        \"legendConfig\":{},\n",
    "        \"interactionConfig\":{},\n",
    "        \"applicationConfig\":{},\n",
    "        \"staticImageConfig\":{},\n",
    "    }\n",
    "    \n",
    "    #layer_template['layerConfig']['timeline'] = True\n",
    "    #layer_template['layerConfig']['order'] = int(str_year)\n",
    "    #layer_template['layerConfig']['timelineLabel'] = str(str_year)\n",
    "   \n",
    "    return layer_template\n",
    "        \n",
    "def upload_layer_def_to_backoffice(layer_def, rw_id):\n",
    "    url = \"https://resourcewatch.org/v1/dataset/{}/layer\".format(rw_id)\n",
    "    res = req.request(\"POST\", url, data=json.dumps(layer_def), headers = createHeaders())\n",
    "    return res.text\n",
    "\n",
    "def prepare_data(obj, info):\n",
    "    wri_id = info[0]\n",
    "    imageCollectionName = info[1]\n",
    "    datasetName = info[2]\n",
    "    sld = info[3]\n",
    "        \n",
    "    rw_id = upload_ic_to_backoffice(wri_id, imageCollectionName, datasetName)\n",
    "    layer_def = autogen_layer_def(imageCollectionName, 'Most recent ' + datasetName, sld)\n",
    "    layer_on_backoffice = upload_layer_def_to_backoffice(layer_def, rw_id)\n",
    "    \n",
    "    #layer_defs = list(map(lambda year: autogen_layer_def(year, max_year, rw_id, carto_name, cartocss, legend, interaction, basesql), wbg_ds_georef['year'].unique()))\n",
    "    #logging.info(layer_defs)\n",
    "    #layer_defs_on_backoffice = list(map(lambda ldef: upload_layer_defs_to_backoffice(ldef, rw_id), layer_defs))\n",
    "    #logging.info(layer_defs_on_backoffice)\n",
    "    #vocab_on_backoffice = load_tags_to_backoffice(tags, rw_id)\n",
    "    #logging.info(vocab_on_backoffice)\n",
    "    \n",
    "    obj[rw_id] = {\n",
    "        'wri_id':wri_id,\n",
    "        'layers':json.loads(layer_on_backoffice),\n",
    "        #'tags':vocab_on_backoffice\n",
    "    }\n",
    "    \n",
    "    return obj"
   ]
  },
  {
   "cell_type": "code",
   "execution_count": 33,
   "metadata": {
    "collapsed": true
   },
   "outputs": [],
   "source": [
    "def slr_layer(ix, amt):\n",
    "    \n",
    "    sld_base = \"<RasterSymbolizer>  <ChannelSelection>   <GrayChannel>   <SourceChannelName>{channel}</SourceChannelName> </GrayChannel>        </ChannelSelection>    <ColorMap  type=\\\"ramp\\\" extended=\\\"false\\\" >  <ColorMapEntry color=\\\"#6baed6\\\" quantity=\\\"{quantity}\\\" />  </ColorMap></RasterSymbolizer>\"\n",
    "\n",
    "    return {\n",
    "        \"name\":'Areas Likely Flooded with Sea Level Rise of {} {}'.format(amt, 'foot' if amt==1 else 'feet'),\n",
    "        \"application\":[\"rw\"],\"iso\":[],\n",
    "        \"default\":True if ix==0 else False,\n",
    "        \"protected\":False,\n",
    "        \"layerConfig\":{\n",
    "            \"type\":\"gee\",\n",
    "            \"assetId\":'users/resourcewatch/cli_024_sea_level_rise_ft',\n",
    "            \"body\":{\n",
    "                \"styleType\":\"sld\",\n",
    "                \"sldValue\":sld_base.format(channel=ix, quantity=amt)\n",
    "            }},\n",
    "        \"legendConfig\":{},\n",
    "        \"interactionConfig\":{},\n",
    "        \"applicationConfig\":{},\n",
    "        \"staticImageConfig\":{},\n",
    "    }\n",
    "\n",
    "def upload_SLR_layers(uniq_id, amts):\n",
    "    layer_defs = list(map(lambda item: slr_layer(item[0],item[1]), enumerate(amts)))\n",
    "    #return layer_defs\n",
    "    return list(map(lambda l_def: upload_layer_def_to_backoffice(l_def, uniq_id), layer_defs))"
   ]
  },
  {
   "cell_type": "code",
   "execution_count": 34,
   "metadata": {
    "collapsed": false,
    "scrolled": false
   },
   "outputs": [
    {
     "data": {
      "text/plain": [
       "['Unauthorized',\n",
       " 'Unauthorized',\n",
       " 'Unauthorized',\n",
       " 'Unauthorized',\n",
       " 'Unauthorized',\n",
       " 'Unauthorized',\n",
       " 'Unauthorized',\n",
       " 'Unauthorized',\n",
       " 'Unauthorized',\n",
       " 'Unauthorized']"
      ]
     },
     "execution_count": 34,
     "metadata": {},
     "output_type": "execute_result"
    }
   ],
   "source": [
    "uniq_id = 'e4946b37-ac8f-48f7-9498-dee5ab23db68'\n",
    "amts = [1,2,3,4,5,6,7,8,9,10]\n",
    "upload_SLR_layers(uniq_id, amts)"
   ]
  },
  {
   "cell_type": "code",
   "execution_count": 61,
   "metadata": {
    "collapsed": false
   },
   "outputs": [
    {
     "name": "stderr",
     "output_type": "stream",
     "text": [
      "INFO:root:{\"data\":{\"id\":\"cf8218cf-4002-4d6f-80fb-9b34c85b008a\",\"type\":\"dataset\",\"attributes\":{\"name\":\"foo_051_Vegetation Condition Index (NDVI anomalies)\",\"slug\":\"foo_051_Vegetation-Condition-Index-NDVI-anomalies\",\"type\":\"raster\",\"subtitle\":null,\"application\":[\"rw\"],\"dataPath\":null,\"attributesPath\":null,\"connectorType\":\"rest\",\"provider\":\"gee\",\"userId\":\"58f66f96733af88e4f563967\",\"connectorUrl\":null,\"tableName\":\"users/resourcewatch_wri/foo_051_vegetation_condition_index\",\"status\":\"pending\",\"published\":true,\"overwrite\":false,\"verified\":false,\"blockchain\":{},\"mainDateField\":null,\"env\":\"production\",\"geoInfo\":true,\"protected\":false,\"legend\":{\"date\":[],\"region\":[],\"country\":[],\"nested\":[]},\"clonedHost\":{},\"errorMessage\":null,\"taskId\":null,\"updatedAt\":\"2018-03-30T13:47:02.448Z\",\"widgetRelevantProps\":[],\"layerRelevantProps\":[]}}}\n"
     ]
    }
   ],
   "source": [
    "rasters_uploaded = reduce(prepare_data, ic_upload_config.values, {})"
   ]
  },
  {
   "cell_type": "code",
   "execution_count": 57,
   "metadata": {
    "collapsed": false
   },
   "outputs": [],
   "source": [
    "def gen_lookup_links(info):\n",
    "    rw_id = info[0]\n",
    "    obj_info = info[1]\n",
    "    wri_id = obj_info['wri_id']\n",
    "    layer_id = obj_info['layers']['data']['id']\n",
    "    url = 'https://staging-api.globalforestwatch.org/layer/{}/tile/gee/'.format(layer_id)\n",
    "    return (wri_id, rw_id, url + '0/0/0')"
   ]
  },
  {
   "cell_type": "code",
   "execution_count": 62,
   "metadata": {
    "collapsed": false
   },
   "outputs": [
    {
     "data": {
      "text/plain": [
       "[('foo_051',\n",
       "  'cf8218cf-4002-4d6f-80fb-9b34c85b008a',\n",
       "  'https://staging-api.globalforestwatch.org/layer/ef5729f1-5ee1-43c2-aca7-f55df2b4e0e3/tile/gee/0/0/0')]"
      ]
     },
     "execution_count": 62,
     "metadata": {},
     "output_type": "execute_result"
    }
   ],
   "source": [
    "list(map(gen_lookup_links, rasters_uploaded.items()))"
   ]
  },
  {
   "cell_type": "code",
   "execution_count": 39,
   "metadata": {
    "collapsed": false
   },
   "outputs": [],
   "source": [
    "def remove_dataset_and_layers(wri_id):\n",
    "    create_res = req.request(\"GET\", \n",
    "                      'https://staging-api.globalforestwatch.org/v1/dataset/{}/layer'.format(wri_id))\n",
    "    layers = create_res.json()['data']\n",
    "    layer_ids = [l['id'] for l in layers]\n",
    "        \n",
    "    deleted_layers = []\n",
    "    for l_id in layer_ids:\n",
    "        delete_layer = req.request(\"DELETE\", \n",
    "                      'https://staging-api.globalforestwatch.org/v1/dataset/{}/layer/{}'.format(wri_id, l_id),\n",
    "                       headers = createHeaders())\n",
    "        \n",
    "        deleted_layers.append(delete_layer.text)\n",
    "    \n",
    "    deleted_dataset = req.request(\"DELETE\", \n",
    "                      'https://staging-api.globalforestwatch.org/v1/dataset/{}'.format(wri_id),\n",
    "                       headers = createHeaders())\n",
    "    \n",
    "    \n",
    "    return deleted_dataset.text, deleted_layers\n",
    "\n",
    "deleted_info = list(map(remove_dataset_and_layers, raster_uploaded.keys()))"
   ]
  },
  {
   "cell_type": "code",
   "execution_count": 36,
   "metadata": {
    "collapsed": false
   },
   "outputs": [
    {
     "data": {
      "text/plain": [
       "[('{\"data\":{\"id\":\"c37cb3ec-919e-45a1-b2cb-ba8ae7bd6f7d\",\"type\":\"dataset\",\"attributes\":{\"name\":\"cli_005a_Antarctic Sea Ice\",\"slug\":\"cli_005a_Antarctic-Sea-Ice\",\"type\":\"raster\",\"subtitle\":null,\"application\":[],\"dataPath\":null,\"attributesPath\":null,\"connectorType\":\"rest\",\"provider\":\"gee\",\"userId\":\"58f66f96733af88e4f563967\",\"connectorUrl\":null,\"tableName\":\"users/resourcewatch_wri/cli_005_antarctic_sea_ice_extent_reproj\",\"status\":\"saved\",\"published\":true,\"overwrite\":false,\"verified\":false,\"blockchain\":{},\"mainDateField\":null,\"env\":\"production\",\"geoInfo\":true,\"protected\":false,\"legend\":{\"date\":[],\"region\":[],\"country\":[],\"nested\":[]},\"clonedHost\":{},\"errorMessage\":\"\",\"taskId\":null,\"updatedAt\":\"2018-03-30T13:05:43.834Z\",\"widgetRelevantProps\":[],\"layerRelevantProps\":[]}}}',\n",
       "  ['{\"data\":{\"id\":\"830cc0a9-ec07-4fee-90f3-6b505782f6a6\",\"type\":\"layer\",\"attributes\":{\"name\":\"Most recent Antarctic Sea Ice\",\"slug\":\"Most-recent-Antarctic-Sea-Ice\",\"dataset\":\"c37cb3ec-919e-45a1-b2cb-ba8ae7bd6f7d\",\"application\":[\"rw\"],\"iso\":[],\"userId\":\"58f66f96733af88e4f563967\",\"default\":true,\"protected\":false,\"env\":\"production\",\"layerConfig\":{\"body\":{\"sldValue\":\"<RasterSymbolizer>     <ColorMap type=\\\\\"intervals\\\\\" extended=\\\\\"false\\\\\" >       <ColorMapEntry color=\\\\\"#000000\\\\\" quantity=\\\\\"0\\\\\" label=\\\\\"No water\\\\\" />       <ColorMapEntry color=\\\\\"#000000\\\\\" quantity=\\\\\"1\\\\\" label=\\\\\"Water\\\\\" />     </ColorMap>   </RasterSymbolizer>\",\"styleType\":\"sld\"},\"assetId\":\"users/resourcewatch_wri/cli_005_antarctic_sea_ice_extent_reproj\",\"isImageCollection\":true,\"position\":\"last\",\"type\":\"gee\"},\"legendConfig\":{},\"interactionConfig\":{},\"applicationConfig\":{},\"staticImageConfig\":{},\"updatedAt\":\"2018-03-30T13:05:43.661Z\"}}}']),\n",
       " ('{\"data\":{\"id\":\"cbeea206-edc7-49e9-9691-b4f884597886\",\"type\":\"dataset\",\"attributes\":{\"name\":\"cli_005b_Arctic Sea Ice\",\"slug\":\"cli_005b_Arctic-Sea-Ice\",\"type\":\"raster\",\"subtitle\":null,\"application\":[],\"dataPath\":null,\"attributesPath\":null,\"connectorType\":\"rest\",\"provider\":\"gee\",\"userId\":\"58f66f96733af88e4f563967\",\"connectorUrl\":null,\"tableName\":\"users/resourcewatch_wri/cli_005_arctic_sea_ice_extent_reproj\",\"status\":\"saved\",\"published\":true,\"overwrite\":false,\"verified\":false,\"blockchain\":{},\"mainDateField\":null,\"env\":\"production\",\"geoInfo\":true,\"protected\":false,\"legend\":{\"date\":[],\"region\":[],\"country\":[],\"nested\":[]},\"clonedHost\":{},\"errorMessage\":\"\",\"taskId\":null,\"updatedAt\":\"2018-03-30T13:05:44.893Z\",\"widgetRelevantProps\":[],\"layerRelevantProps\":[]}}}',\n",
       "  ['{\"data\":{\"id\":\"bd8966f0-579f-41d2-8b99-f18add43e3eb\",\"type\":\"layer\",\"attributes\":{\"name\":\"Most recent Arctic Sea Ice\",\"slug\":\"Most-recent-Arctic-Sea-Ice\",\"dataset\":\"cbeea206-edc7-49e9-9691-b4f884597886\",\"application\":[\"rw\"],\"iso\":[],\"userId\":\"58f66f96733af88e4f563967\",\"default\":true,\"protected\":false,\"env\":\"production\",\"layerConfig\":{\"body\":{\"sldValue\":\"<RasterSymbolizer>     <ColorMap type=\\\\\"intervals\\\\\" extended=\\\\\"false\\\\\" >       <ColorMapEntry color=\\\\\"#000000\\\\\" quantity=\\\\\"0\\\\\" label=\\\\\"No water\\\\\" />       <ColorMapEntry color=\\\\\"#000000\\\\\" quantity=\\\\\"1\\\\\" label=\\\\\"Water\\\\\" />     </ColorMap>   </RasterSymbolizer>\",\"styleType\":\"sld\"},\"assetId\":\"users/resourcewatch_wri/cli_005_arctic_sea_ice_extent_reproj\",\"isImageCollection\":true,\"position\":\"last\",\"type\":\"gee\"},\"legendConfig\":{},\"interactionConfig\":{},\"applicationConfig\":{},\"staticImageConfig\":{},\"updatedAt\":\"2018-03-30T13:05:44.041Z\"}}}']),\n",
       " ('{\"data\":{\"id\":\"e004034f-91d8-45b8-bbe1-7dac4b0c1a56\",\"type\":\"dataset\",\"attributes\":{\"name\":\"cli_012_CO2 Concentrations\",\"slug\":\"cli_012_CO2-Concentrations\",\"type\":\"raster\",\"subtitle\":null,\"application\":[],\"dataPath\":null,\"attributesPath\":null,\"connectorType\":\"rest\",\"provider\":\"gee\",\"userId\":\"58f66f96733af88e4f563967\",\"connectorUrl\":null,\"tableName\":\"users/resourcewatch_wri/cli_012_co2_concentrations\",\"status\":\"saved\",\"published\":true,\"overwrite\":false,\"verified\":false,\"blockchain\":{},\"mainDateField\":null,\"env\":\"production\",\"geoInfo\":true,\"protected\":false,\"legend\":{\"date\":[],\"region\":[],\"country\":[],\"nested\":[]},\"clonedHost\":{},\"errorMessage\":\"\",\"taskId\":null,\"updatedAt\":\"2018-03-30T13:05:44.556Z\",\"widgetRelevantProps\":[],\"layerRelevantProps\":[]}}}',\n",
       "  ['{\"data\":{\"id\":\"1fb4caf3-9fa0-437f-ad6c-f7a50775b3fc\",\"type\":\"layer\",\"attributes\":{\"name\":\"Most recent CO2 Concentrations\",\"slug\":\"Most-recent-CO2-Concentrations\",\"dataset\":\"e004034f-91d8-45b8-bbe1-7dac4b0c1a56\",\"application\":[\"rw\"],\"iso\":[],\"userId\":\"58f66f96733af88e4f563967\",\"default\":true,\"protected\":false,\"env\":\"production\",\"layerConfig\":{\"body\":{\"sldValue\":\"<RasterSymbolizer>     <ColorMap type=\\\\\"intervals\\\\\" extended=\\\\\"false\\\\\" >       <ColorMapEntry color=\\\\\"#000000\\\\\" quantity=\\\\\"0\\\\\" label=\\\\\"No water\\\\\" />       <ColorMapEntry color=\\\\\"#000000\\\\\" quantity=\\\\\"1\\\\\" label=\\\\\"Water\\\\\" />     </ColorMap>   </RasterSymbolizer>\",\"styleType\":\"sld\"},\"assetId\":\"users/resourcewatch_wri/cli_012_co2_concentrations\",\"isImageCollection\":true,\"position\":\"last\",\"type\":\"gee\"},\"legendConfig\":{},\"interactionConfig\":{},\"applicationConfig\":{},\"staticImageConfig\":{},\"updatedAt\":\"2018-03-30T13:05:44.337Z\"}}}']),\n",
       " ('{\"data\":{\"id\":\"a14c2b33-84b4-4a97-b39f-b9484678fd3f\",\"type\":\"dataset\",\"attributes\":{\"name\":\"cli_035_Surface Temperature Anomalies\",\"slug\":\"cli_035_Surface-Temperature-Anomalies\",\"type\":\"raster\",\"subtitle\":null,\"application\":[],\"dataPath\":null,\"attributesPath\":null,\"connectorType\":\"rest\",\"provider\":\"gee\",\"userId\":\"58f66f96733af88e4f563967\",\"connectorUrl\":null,\"tableName\":\"users/resourcewatch_wri/cli_035_surface_temp_analysis\",\"status\":\"saved\",\"published\":true,\"overwrite\":false,\"verified\":false,\"blockchain\":{},\"mainDateField\":null,\"env\":\"production\",\"geoInfo\":true,\"protected\":false,\"legend\":{\"date\":[],\"region\":[],\"country\":[],\"nested\":[]},\"clonedHost\":{},\"errorMessage\":\"\",\"taskId\":null,\"updatedAt\":\"2018-03-30T13:05:44.972Z\",\"widgetRelevantProps\":[],\"layerRelevantProps\":[]}}}',\n",
       "  ['{\"data\":{\"id\":\"77338573-9c1c-4258-bdfc-550fb186cbd3\",\"type\":\"layer\",\"attributes\":{\"name\":\"Most recent Surface Temperature Anomalies\",\"slug\":\"Most-recent-Surface-Temperature-Anomalies\",\"dataset\":\"a14c2b33-84b4-4a97-b39f-b9484678fd3f\",\"application\":[\"rw\"],\"iso\":[],\"userId\":\"58f66f96733af88e4f563967\",\"default\":true,\"protected\":false,\"env\":\"production\",\"layerConfig\":{\"body\":{\"sldValue\":\"<RasterSymbolizer>     <ColorMap type=\\\\\"intervals\\\\\" extended=\\\\\"false\\\\\" >       <ColorMapEntry color=\\\\\"#000000\\\\\" quantity=\\\\\"0\\\\\" label=\\\\\"No water\\\\\" />       <ColorMapEntry color=\\\\\"#000000\\\\\" quantity=\\\\\"1\\\\\" label=\\\\\"Water\\\\\" />     </ColorMap>   </RasterSymbolizer>\",\"styleType\":\"sld\"},\"assetId\":\"users/resourcewatch_wri/cli_035_surface_temp_analysis\",\"isImageCollection\":true,\"position\":\"last\",\"type\":\"gee\"},\"legendConfig\":{},\"interactionConfig\":{},\"applicationConfig\":{},\"staticImageConfig\":{},\"updatedAt\":\"2018-03-30T13:05:44.736Z\"}}}']),\n",
       " ('{\"data\":{\"id\":\"381360a3-25de-4588-acff-6c47915952b6\",\"type\":\"dataset\",\"attributes\":{\"name\":\"bio_005_Bleaching Alerts\",\"slug\":\"bio_005_Bleaching-Alerts\",\"type\":\"raster\",\"subtitle\":null,\"application\":[],\"dataPath\":null,\"attributesPath\":null,\"connectorType\":\"rest\",\"provider\":\"gee\",\"userId\":\"58f66f96733af88e4f563967\",\"connectorUrl\":null,\"tableName\":\"users/resourcewatch_wri/bio_005_bleaching_alerts\",\"status\":\"saved\",\"published\":true,\"overwrite\":false,\"verified\":false,\"blockchain\":{},\"mainDateField\":null,\"env\":\"production\",\"geoInfo\":true,\"protected\":false,\"legend\":{\"date\":[],\"region\":[],\"country\":[],\"nested\":[]},\"clonedHost\":{},\"errorMessage\":\"\",\"taskId\":null,\"updatedAt\":\"2018-03-30T13:05:45.291Z\",\"widgetRelevantProps\":[],\"layerRelevantProps\":[]}}}',\n",
       "  ['{\"data\":{\"id\":\"12ae0dd8-51cb-4b5e-9176-ec245e25cc2a\",\"type\":\"layer\",\"attributes\":{\"name\":\"Most recent Bleaching Alerts\",\"slug\":\"Most-recent-Bleaching-Alerts\",\"dataset\":\"381360a3-25de-4588-acff-6c47915952b6\",\"application\":[\"rw\"],\"iso\":[],\"userId\":\"58f66f96733af88e4f563967\",\"default\":true,\"protected\":false,\"env\":\"production\",\"layerConfig\":{\"body\":{\"sldValue\":\"<RasterSymbolizer>     <ColorMap type=\\\\\"intervals\\\\\" extended=\\\\\"false\\\\\" >       <ColorMapEntry color=\\\\\"#000000\\\\\" quantity=\\\\\"0\\\\\" label=\\\\\"No water\\\\\" />       <ColorMapEntry color=\\\\\"#000000\\\\\" quantity=\\\\\"1\\\\\" label=\\\\\"Water\\\\\" />     </ColorMap>   </RasterSymbolizer>\",\"styleType\":\"sld\"},\"assetId\":\"users/resourcewatch_wri/bio_005_bleaching_alerts\",\"isImageCollection\":true,\"position\":\"last\",\"type\":\"gee\"},\"legendConfig\":{},\"interactionConfig\":{},\"applicationConfig\":{},\"staticImageConfig\":{},\"updatedAt\":\"2018-03-30T13:05:45.075Z\"}}}']),\n",
       " ('{\"data\":{\"id\":\"04349bb3-fb6e-4366-a6be-732ddc681121\",\"type\":\"dataset\",\"attributes\":{\"name\":\"soc_073_Gridded GDP\",\"slug\":\"soc_073_Gridded-GDP\",\"type\":\"raster\",\"subtitle\":null,\"application\":[],\"dataPath\":null,\"attributesPath\":null,\"connectorType\":\"rest\",\"provider\":\"gee\",\"userId\":\"58f66f96733af88e4f563967\",\"connectorUrl\":null,\"tableName\":\"users/resourcewatch_wri/soc_073_gridded_gdp\",\"status\":\"saved\",\"published\":true,\"overwrite\":false,\"verified\":false,\"blockchain\":{},\"mainDateField\":null,\"env\":\"production\",\"geoInfo\":true,\"protected\":false,\"legend\":{\"date\":[],\"region\":[],\"country\":[],\"nested\":[]},\"clonedHost\":{},\"errorMessage\":\"\",\"taskId\":null,\"updatedAt\":\"2018-03-30T13:05:45.610Z\",\"widgetRelevantProps\":[],\"layerRelevantProps\":[]}}}',\n",
       "  ['{\"data\":{\"id\":\"03709f1d-e469-4734-adf3-ad736be26ee8\",\"type\":\"layer\",\"attributes\":{\"name\":\"Most recent Gridded GDP\",\"slug\":\"Most-recent-Gridded-GDP\",\"dataset\":\"04349bb3-fb6e-4366-a6be-732ddc681121\",\"application\":[\"rw\"],\"iso\":[],\"userId\":\"58f66f96733af88e4f563967\",\"default\":true,\"protected\":false,\"env\":\"production\",\"layerConfig\":{\"body\":{\"sldValue\":\"<RasterSymbolizer>     <ColorMap type=\\\\\"intervals\\\\\" extended=\\\\\"false\\\\\" >       <ColorMapEntry color=\\\\\"#000000\\\\\" quantity=\\\\\"0\\\\\" label=\\\\\"No water\\\\\" />       <ColorMapEntry color=\\\\\"#000000\\\\\" quantity=\\\\\"1\\\\\" label=\\\\\"Water\\\\\" />     </ColorMap>   </RasterSymbolizer>\",\"styleType\":\"sld\"},\"assetId\":\"users/resourcewatch_wri/soc_073_gridded_gdp\",\"isImageCollection\":true,\"position\":\"last\",\"type\":\"gee\"},\"legendConfig\":{},\"interactionConfig\":{},\"applicationConfig\":{},\"staticImageConfig\":{},\"updatedAt\":\"2018-03-30T13:05:45.366Z\"}}}']),\n",
       " ('{\"data\":{\"id\":\"ee7d6cb0-1518-4b1c-bca5-d9cfd532218e\",\"type\":\"dataset\",\"attributes\":{\"name\":\"soc_075_Age Groups\",\"slug\":\"soc_075_Age-Groups\",\"type\":\"raster\",\"subtitle\":null,\"application\":[],\"dataPath\":null,\"attributesPath\":null,\"connectorType\":\"rest\",\"provider\":\"gee\",\"userId\":\"58f66f96733af88e4f563967\",\"connectorUrl\":null,\"tableName\":\"users/resourcewatch_wri/soc_075_broad_age_groups\",\"status\":\"saved\",\"published\":true,\"overwrite\":false,\"verified\":false,\"blockchain\":{},\"mainDateField\":null,\"env\":\"production\",\"geoInfo\":true,\"protected\":false,\"legend\":{\"date\":[],\"region\":[],\"country\":[],\"nested\":[]},\"clonedHost\":{},\"errorMessage\":\"\",\"taskId\":null,\"updatedAt\":\"2018-03-30T13:05:45.874Z\",\"widgetRelevantProps\":[],\"layerRelevantProps\":[]}}}',\n",
       "  ['{\"data\":{\"id\":\"24bc300d-2c1f-4cd4-8c9f-18333a3ae14b\",\"type\":\"layer\",\"attributes\":{\"name\":\"Most recent Age Groups\",\"slug\":\"Most-recent-Age-Groups\",\"dataset\":\"ee7d6cb0-1518-4b1c-bca5-d9cfd532218e\",\"application\":[\"rw\"],\"iso\":[],\"userId\":\"58f66f96733af88e4f563967\",\"default\":true,\"protected\":false,\"env\":\"production\",\"layerConfig\":{\"body\":{\"sldValue\":\"<RasterSymbolizer>     <ColorMap type=\\\\\"intervals\\\\\" extended=\\\\\"false\\\\\" >       <ColorMapEntry color=\\\\\"#000000\\\\\" quantity=\\\\\"0\\\\\" label=\\\\\"No water\\\\\" />       <ColorMapEntry color=\\\\\"#000000\\\\\" quantity=\\\\\"1\\\\\" label=\\\\\"Water\\\\\" />     </ColorMap>   </RasterSymbolizer>\",\"styleType\":\"sld\"},\"assetId\":\"users/resourcewatch_wri/soc_075_broad_age_groups\",\"isImageCollection\":true,\"position\":\"last\",\"type\":\"gee\"},\"legendConfig\":{},\"interactionConfig\":{},\"applicationConfig\":{},\"staticImageConfig\":{},\"updatedAt\":\"2018-03-30T13:05:45.734Z\"}}}'])]"
      ]
     },
     "execution_count": 36,
     "metadata": {},
     "output_type": "execute_result"
    }
   ],
   "source": [
    "deleted_info"
   ]
  }
 ],
 "metadata": {
  "kernelspec": {
   "display_name": "Python 3",
   "language": "python",
   "name": "python3"
  },
  "language_info": {
   "codemirror_mode": {
    "name": "ipython",
    "version": 3
   },
   "file_extension": ".py",
   "mimetype": "text/x-python",
   "name": "python",
   "nbconvert_exporter": "python",
   "pygments_lexer": "ipython3",
   "version": "3.6.0"
  }
 },
 "nbformat": 4,
 "nbformat_minor": 2
}
