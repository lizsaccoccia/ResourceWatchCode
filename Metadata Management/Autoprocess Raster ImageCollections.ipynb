{
 "cells": [
  {
   "cell_type": "markdown",
   "metadata": {},
   "source": [
    "# Import libraries"
   ]
  },
  {
   "cell_type": "code",
   "execution_count": null,
   "metadata": {
    "collapsed": true
   },
   "outputs": [],
   "source": [
    "import requests as req\n",
    "import pandas as pd\n",
    "import os\n",
    "from functools import reduce\n",
    "import json\n",
    "import logging\n",
    "import sys\n",
    "\n",
    "logging.basicConfig(stream=sys.stderr, level=logging.INFO)"
   ]
  },
  {
   "cell_type": "markdown",
   "metadata": {},
   "source": [
    "# Authenticate to API"
   ]
  },
  {
   "cell_type": "code",
   "execution_count": null,
   "metadata": {
    "collapsed": true
   },
   "outputs": [],
   "source": [
    "from configparser import ConfigParser\n",
    "config = ConfigParser()\n",
    "config.read(\"/Users/nathansuberi/Desktop/WRI_Programming/cred/.env\")\n",
    "api_token = config.get(\"auth\", \"rw_api_token\")\n",
    "\n",
    "AUTH_TOKEN = api_token # <Insert Auth Token Here>"
   ]
  },
  {
   "cell_type": "markdown",
   "metadata": {},
   "source": [
    "# Download upload config"
   ]
  },
  {
   "cell_type": "code",
   "execution_count": null,
   "metadata": {
    "collapsed": false
   },
   "outputs": [],
   "source": [
    "#### Download Google Spreadsheets ####\n",
    "# ImageCollection Upload Config\n",
    "!curl \"https://docs.google.com/spreadsheets/d/1NCL998eESaXcodvzTE7e9_zpBxVAG4HiQXpzP1E_Cpk/export?format=tsv\" > ic_upload_config.tsv\n",
    "ic_upload_config = pd.read_csv(open(\"ic_upload_config.tsv\", \"r\"), sep=\"\\t\", index_col=None)\n",
    "os.remove(\"ic_upload_config.tsv\")"
   ]
  },
  {
   "cell_type": "code",
   "execution_count": null,
   "metadata": {
    "collapsed": false
   },
   "outputs": [],
   "source": [
    "ic_upload_config"
   ]
  },
  {
   "cell_type": "markdown",
   "metadata": {},
   "source": [
    "# Helper functions"
   ]
  },
  {
   "cell_type": "code",
   "execution_count": null,
   "metadata": {
    "collapsed": true
   },
   "outputs": [],
   "source": [
    "def createHeaders():\n",
    "    return {\n",
    "        'content-type': \"application/json\",\n",
    "        'authorization': \"Bearer {}\".format( AUTH_TOKEN )\n",
    "    }\n",
    "\n",
    "def upload_ic_to_backoffice(wri_id, imageCollectionName, datasetName):\n",
    "    \n",
    "    ds_specs = {\n",
    "        \"connectorType\":\"rest\",\n",
    "        \"provider\":\"gee\",\n",
    "        \"tableName\":imageCollectionName,\n",
    "        \"application\":[\"rw\"],\n",
    "        \"geoInfo\":True,\n",
    "        \"type\":\"raster\",\n",
    "        \"name\":\"{}_{}\".format(wri_id, datasetName)\n",
    "    }\n",
    "\n",
    "    create_res = req.request(\"POST\", \n",
    "                      'https://staging-api.globalforestwatch.org/v1/dataset', \n",
    "                      data=json.dumps(ds_specs), \n",
    "                      headers = createHeaders())\n",
    "\n",
    "    logging.info(create_res.text)\n",
    "\n",
    "    return create_res.json()['data']['id']\n",
    "\n",
    "\n",
    "def autogen_layer_def(imageCollectionName, layerName, sld):  \n",
    "    \n",
    "    layer_template = {\n",
    "        \"name\":layerName,\n",
    "        \"application\":[\"rw\"],\"iso\":[],\n",
    "        \"default\":True,\n",
    "        \"protected\":False,\n",
    "        \"layerConfig\":{\n",
    "            \"type\":\"gee\",\n",
    "            \"position\":\"last\",\n",
    "            \"isImageCollection\":True,\n",
    "            #\"filterDates\":[\"2010-01-01\",\"2017-10-24\"],\n",
    "            \"assetId\":imageCollectionName,\n",
    "            \"body\":{\n",
    "                \"styleType\":\"sld\",\n",
    "                \"sldValue\":sld\n",
    "            }},\n",
    "        \"legendConfig\":{},\n",
    "        \"interactionConfig\":{},\n",
    "        \"applicationConfig\":{},\n",
    "        \"staticImageConfig\":{},\n",
    "    }\n",
    "    \n",
    "    #layer_template['layerConfig']['timeline'] = True\n",
    "    #layer_template['layerConfig']['order'] = int(str_year)\n",
    "    #layer_template['layerConfig']['timelineLabel'] = str(str_year)\n",
    "   \n",
    "    return layer_template\n",
    "        \n",
    "def upload_layer_def_to_backoffice(layer_def, rw_id):\n",
    "    url = \"https://staging-api.globalforestwatch.org/v1/dataset/{}/layer\".format(rw_id)\n",
    "    res = req.request(\"POST\", url, data=json.dumps(layer_def), headers = createHeaders())\n",
    "    return res.text\n",
    "\n",
    "def prepare_data(obj, info):\n",
    "    wri_id = info[0]\n",
    "    imageCollectionName = info[1]\n",
    "    datasetName = info[2]\n",
    "    sld = info[3]\n",
    "        \n",
    "    rw_id = upload_ic_to_backoffice(wri_id, imageCollectionName, datasetName)\n",
    "    layer_def = autogen_layer_def(imageCollectionName, 'Most recent ' + datasetName, sld)\n",
    "    layer_on_backoffice = upload_layer_def_to_backoffice(layer_def, rw_id)\n",
    "    \n",
    "    #layer_defs = list(map(lambda year: autogen_layer_def(year, max_year, rw_id, carto_name, cartocss, legend, interaction, basesql), wbg_ds_georef['year'].unique()))\n",
    "    #logging.info(layer_defs)\n",
    "    #layer_defs_on_backoffice = list(map(lambda ldef: upload_layer_defs_to_backoffice(ldef, rw_id), layer_defs))\n",
    "    #logging.info(layer_defs_on_backoffice)\n",
    "    #vocab_on_backoffice = load_tags_to_backoffice(tags, rw_id)\n",
    "    #logging.info(vocab_on_backoffice)\n",
    "    \n",
    "    \n",
    "    obj[wri_id] = {\n",
    "        'rw_id':rw_id,\n",
    "        'layers':json.loads(layer_on_backoffice),\n",
    "        #'tags':vocab_on_backoffice\n",
    "    }\n",
    "    \n",
    "    return obj"
   ]
  },
  {
   "cell_type": "code",
   "execution_count": null,
   "metadata": {
    "collapsed": false
   },
   "outputs": [],
   "source": [
    "raster_uploaded = reduce(prepare_data, ic_upload_config.values, {})"
   ]
  },
  {
   "cell_type": "code",
   "execution_count": null,
   "metadata": {
    "collapsed": false
   },
   "outputs": [],
   "source": [
    "def gen_lookup_links(obj_info):\n",
    "    layer_id = obj_info['layers']['data']['id']\n",
    "    url = 'https://staging-api.globalforestwatch.org/layer/{}/tile/gee/'.format(layer_id)\n",
    "    return url + '{z}/{x}/{y}'"
   ]
  },
  {
   "cell_type": "code",
   "execution_count": null,
   "metadata": {
    "collapsed": true
   },
   "outputs": [],
   "source": [
    "raster_uploaded"
   ]
  },
  {
   "cell_type": "code",
   "execution_count": null,
   "metadata": {
    "collapsed": false
   },
   "outputs": [],
   "source": [
    "list(map(gen_lookup_links, raster_uploaded.values()))"
   ]
  }
 ],
 "metadata": {
  "kernelspec": {
   "display_name": "Python 3",
   "language": "python",
   "name": "python3"
  },
  "language_info": {
   "codemirror_mode": {
    "name": "ipython",
    "version": 3
   },
   "file_extension": ".py",
   "mimetype": "text/x-python",
   "name": "python",
   "nbconvert_exporter": "python",
   "pygments_lexer": "ipython3",
   "version": "3.6.0"
  }
 },
 "nbformat": 4,
 "nbformat_minor": 2
}
