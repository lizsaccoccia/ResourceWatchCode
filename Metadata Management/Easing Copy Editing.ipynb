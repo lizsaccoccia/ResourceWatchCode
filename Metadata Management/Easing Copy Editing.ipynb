{
 "cells": [
  {
   "cell_type": "markdown",
   "metadata": {},
   "source": [
    "# Import libraries"
   ]
  },
  {
   "cell_type": "code",
   "execution_count": 2,
   "metadata": {
    "collapsed": true
   },
   "outputs": [],
   "source": [
    "import pandas as pd\n",
    "pd.options.display.max_columns = 200\n",
    "\n",
    "import requests as req\n",
    "import json\n",
    "import boto3\n",
    "import io\n",
    "\n",
    "import sys\n",
    "import logging\n",
    "import os\n",
    "logging.basicConfig(stream=sys.stderr, level=logging.INFO)"
   ]
  },
  {
   "cell_type": "markdown",
   "metadata": {},
   "source": [
    "# Grab website metadata"
   ]
  },
  {
   "cell_type": "code",
   "execution_count": 6,
   "metadata": {
    "collapsed": false
   },
   "outputs": [
    {
     "name": "stderr",
     "output_type": "stream",
     "text": [
      "INFO:root:Number of datasets: 328\n"
     ]
    }
   ],
   "source": [
    "# Base URL for getting dataset metadata from RW API\n",
    "url = \"https://api.resourcewatch.org/v1/dataset?sort=slug,-provider,userId&status=saved&includes=metadata,vocabulary,widget,layer\"\n",
    "\n",
    "# page[size] tells the API the maximum number of results to send back\n",
    "# There are currently between 200 and 300 datasets on the RW API\n",
    "payload = { \"application\":\"rw\", \"page[size]\": 1000}\n",
    "\n",
    "# Request all datasets, and extract the data from the response\n",
    "res = req.get(url, params=payload)\n",
    "data = res.json()[\"data\"]\n",
    "\n",
    "### Convert the json object returned by the API into a pandas DataFrame\n",
    "# Another option: https://pandas.pydata.org/pandas-docs/stable/generated/pandas.io.json.json_normalize.html\n",
    "datasets_on_api = {}\n",
    "for ix, dset in enumerate(data):\n",
    "    atts = dset[\"attributes\"]\n",
    "    metadata = atts[\"metadata\"]\n",
    "    layers = atts[\"layer\"]\n",
    "    widgets = atts[\"widget\"]\n",
    "    tags = atts[\"vocabulary\"]\n",
    "    datasets_on_api[dset[\"id\"]] = {\n",
    "        \"name\":atts[\"name\"],\n",
    "        \"table_name\":atts[\"tableName\"],\n",
    "        \"provider\":atts[\"provider\"],\n",
    "        \"date_updated\":atts[\"updatedAt\"],\n",
    "        \"num_metadata\":len(metadata),\n",
    "        \"metadata\": metadata,\n",
    "        \"num_layers\":len(layers),\n",
    "        \"layers\": layers,\n",
    "        \"num_widgets\":len(widgets),\n",
    "        \"widgets\": widgets,\n",
    "        \"num_tags\":len(tags),\n",
    "        \"tags\":tags\n",
    "    }\n",
    "\n",
    "# Create the DataFrame, name the index, and sort by date_updated\n",
    "# More recently updated datasets at the top\n",
    "current_datasets_on_api = pd.DataFrame.from_dict(datasets_on_api, orient='index')\n",
    "current_datasets_on_api.index.rename(\"Dataset\", inplace=True)\n",
    "current_datasets_on_api.sort_values(by=[\"date_updated\"], inplace=True, ascending = False)\n",
    "\n",
    "logging.info(\"Number of datasets: \" + str(current_datasets_on_api.shape[0]))"
   ]
  },
  {
   "cell_type": "markdown",
   "metadata": {},
   "source": [
    "# Pull out all layer names and definitions\n",
    "* Link to data set detail page\n",
    "* For each layer:\n",
    "* * Layer name\n",
    "* * Layer description\n"
   ]
  },
  {
   "cell_type": "code",
   "execution_count": 32,
   "metadata": {
    "collapsed": false
   },
   "outputs": [
    {
     "data": {
      "text/plain": [
       "Dataset\n",
       "f6d8caef-578f-4afe-a8de-f5e972c43f0c                                                   []\n",
       "d3f50041-2fbd-4749-b8c5-73d14f35193a    [{'id': '5b7a036c-eadc-42ad-a0db-130fbf66449b'...\n",
       "acf42a1b-104b-4f81-acd0-549f805873fb    [{'id': '3a52f7ed-0c20-4691-981b-3a3521b069aa'...\n",
       "57156462-e47b-4e25-88bc-610ad55c35bc                                                   []\n",
       "6b8442f5-4766-4444-94b4-d6676277fd80    [{'id': '3885375e-7bac-4fcd-807f-8e12c6c0e5f1'...\n",
       "917f1945-fff9-4b6f-8290-4f4b9417079e                                                   []\n",
       "b8a6a6ea-7d2f-4d59-bb5e-7143a2ddc1fe                                                   []\n",
       "a290675c-9528-4a51-8201-f6c2d7848744    [{'id': '09aa80be-d7c8-4008-98fb-8adbd3a2e05b'...\n",
       "fa6443ff-eb95-4d0f-84d2-f0c91682efdf    [{'id': '07b6e469-d1c4-4ab8-a8a7-cf37f344ae4c'...\n",
       "26fe7429-9087-434b-b9d1-856881a34f4a                                                   []\n",
       "66d1bba4-ccf4-415e-a2d0-f607c6304994    [{'id': '7701ed4c-95f6-4c7f-a170-f1cac0909cc1'...\n",
       "018719a6-009b-4b04-970d-08b93c8192cb                                                   []\n",
       "94d3d000-1e12-46a1-be28-d9790233e2d2                                                   []\n",
       "41397376-593d-4bfc-95c2-f18bb9ddaf71    [{'id': 'ae433876-5f75-4d06-bcd3-61e38e493cee'...\n",
       "5e3a3a9f-7380-47c0-ad84-2c193861e106    [{'id': '09f174d9-93bf-4f30-b6d7-cff914fd7642'...\n",
       "c18a38cd-94ff-48cd-818f-6ffb05992abb    [{'id': '95557b73-07c5-48a6-841b-58f9d782b58e'...\n",
       "fe311144-8c0e-4440-b068-6efd057e0f6a    [{'id': '998035d6-2d5f-4876-ba6c-e7443db3afa8'...\n",
       "3d2ce960-abda-4c9c-bd29-1929e9ca24c9    [{'id': '1d065607-2b13-40cf-973a-6f55b4de573b'...\n",
       "10337db6-8321-445e-a60b-28fc1e114f29    [{'id': '2800bf8d-6d27-4a77-a621-ef65cf44c7bf'...\n",
       "6b670396-c52c-430c-b5bb-20693da03b60    [{'id': 'd8c8ce54-b1a8-43b4-92fd-c2c404a93017'...\n",
       "37d04efc-0ab2-4499-a891-54dca1013c74    [{'id': 'e01c4ff1-94a8-466c-a494-85dfc6a54b36'...\n",
       "b37048be-9b23-4458-a047-888956c69aa1    [{'id': 'da812e1b-573a-45e7-8fbf-6f996133439c'...\n",
       "8671f536-1979-4b6f-a147-70152fcb44ed    [{'id': '562795be-8713-4cc9-acf6-5925f0cbff08'...\n",
       "7793f46c-a48a-466f-a8ce-ca1a87b7aeed    [{'id': 'c899bd6b-f18a-48a6-8d7e-4b4477dea59e'...\n",
       "f8d3e79c-c3d0-4f9a-9b68-9c5ad1f025e4    [{'id': '203cc244-2ff0-4afa-8de9-ee11698112db'...\n",
       "e8f53f73-d77c-485a-a2a6-1c47ea4aead9    [{'id': 'c43b7d21-1e0a-4257-8618-b5a356e06530'...\n",
       "00abb46f-34e2-4bf7-be30-1fb0b1de022f    [{'id': 'd68e4d68-16d6-4397-a415-de8e080a86ba'...\n",
       "a89c95c7-0b82-4162-b9d8-cc0205e9f7ec    [{'id': '8eec0d73-1380-4756-a5cd-9a6acec7752e'...\n",
       "bea122ce-1e4b-465d-8b7b-fa11aadd20f7    [{'id': 'a26606ad-3b16-4a4d-be7f-f2640a5c81e2'...\n",
       "95b013a3-389a-4367-83b7-c9d68c28c406    [{'id': 'e1b3722a-d42d-414e-9fee-2b122fe31299'...\n",
       "                                                              ...                        \n",
       "65c0e15b-dad0-4681-934e-91c0a378d2fb    [{'id': 'ee4bee7f-e9ba-4eef-bb38-ce00536e55de'...\n",
       "bab30f88-eb92-4aac-ba6d-fb7c61f4b7d3    [{'id': '15313111-6a11-4832-bf44-0e52a2fe05ad'...\n",
       "585938cd-a438-43e8-b1de-bc767a98e0df                                                   []\n",
       "b18320f6-2d8b-4776-8f60-55bce10f7957    [{'id': 'b51c7412-cb4d-4dab-8eeb-8cc31c131195'...\n",
       "63a7a997-695d-4629-b6e9-9b169f5c69bf    [{'id': '77ba0a3b-3940-4525-90ad-f1c729bc8673'...\n",
       "ddac9a5a-1b8a-4c04-b47e-70ef527addc1                                                   []\n",
       "c48f0582-164f-4faa-97a2-7ad2e3111d3d    [{'id': '398051aa-fe8b-4ac7-93bb-3f3d206c02f7'...\n",
       "bbadb233-84ea-4ae1-893f-deba67f1d5de    [{'id': 'b43325a0-b9f1-4eda-b457-f1cadf9fadd2'...\n",
       "ac750026-e66d-4403-b607-efcf01189d21                                                   []\n",
       "ec8359f3-4b35-4212-9482-3e34c55a3ef5                                                   []\n",
       "b9ae853a-8e80-4c99-8bc8-30973b029710                                                   []\n",
       "c8040a7a-a40f-48bd-b003-625c33beff5e    [{'id': '15dd3d92-4d2b-4fc1-83f5-672306dded1f'...\n",
       "c9c9cb2f-9655-4f40-8736-9b407ee43514    [{'id': 'e15cdfe9-ed6e-40a7-8dd1-e9516c7c24a6'...\n",
       "9e7dc020-5a93-4df8-b81e-ee3e7bf32764    [{'id': '29ce6221-9450-4b60-a9c2-aea581d31a08'...\n",
       "e66121ff-b785-4f27-aa1b-180af31a17cc                                                   []\n",
       "ad790c87-fe9e-4405-891d-de7c2ddfda79    [{'id': '73db724d-87b9-41cd-912a-b66eb65eebdd'...\n",
       "7a213f00-5be7-4f11-a859-3b9058dae2e6    [{'id': '8abc876c-d689-4e3d-ac9e-dd9ac6dd51cd'...\n",
       "42de3f98-ba1c-4572-a227-2e18d45239a5    [{'id': 'b6e19530-8120-40fc-baeb-a545b32556ae'...\n",
       "b4dbb3a5-654f-4f36-aa32-c28f7406d6f4                                                   []\n",
       "3b7c3e8f-f7c0-466f-8f7c-01d73afc0988                                                   []\n",
       "efa4d726-64d7-4fd5-835c-402fd22d171b                                                   []\n",
       "32324f22-e7f6-4e0d-bc38-d82c6484f1be                                                   []\n",
       "88648f97-35a5-4384-b141-ac00b4f66209                                                   []\n",
       "2b569ae2-9452-44f8-9c81-3c3afb6c3c25                                                   []\n",
       "9d9b48d3-152d-48c3-8c2a-2957ddb601a1    [{'id': 'f92216b7-3c45-4026-8f06-bf53e1e464a4'...\n",
       "9d03913c-050c-4080-b396-36724e557f94    [{'id': 'f195671a-523d-403c-bb58-eaff320aa532'...\n",
       "e94f0e2d-2b5f-41ed-967f-d97e54dd81ea    [{'id': 'f17a1eef-0f3a-4021-8442-db303ce369fd'...\n",
       "3c473fd2-2e82-48ce-8f16-c14a104655eb                                                   []\n",
       "11a8995c-051f-455c-9b94-c868f2161894                                                   []\n",
       "90a76816-cb42-49e0-a736-9c3d82cb0d59                                                   []\n",
       "Name: layers, Length: 328, dtype: object"
      ]
     },
     "execution_count": 32,
     "metadata": {},
     "output_type": "execute_result"
    }
   ],
   "source": [
    "current_datasets_on_api['layers']"
   ]
  },
  {
   "cell_type": "code",
   "execution_count": 25,
   "metadata": {
    "collapsed": false
   },
   "outputs": [],
   "source": [
    "try:\n",
    "    os.unlink('layer_info.txt')\n",
    "except:\n",
    "    pass\n",
    "\n",
    "\n",
    "### NOTE: use option 'a' to append to a file. 'w' would overwrite\n",
    "f = open('layer_info.txt', 'a')\n",
    "\n",
    "def pick_layer_info(layer, f):\n",
    "    s_atts = layer['attributes']\n",
    "    t_atts = ['name', 'description']\n",
    "    f.write('layer id: {}\\n'.format(layer['id']))\n",
    "    for att in t_atts:\n",
    "        if att in s_atts:\n",
    "            f.write('{}: {}\\n'.format(att, s_atts[att]))\n",
    "    f.write('\\n')\n",
    "            \n",
    "            \n",
    "def record_layers(info, f):\n",
    "    ds = info[0]\n",
    "    layers = info[1]\n",
    "    f.write('** NEW DATASET **\\n')\n",
    "    f.write('ds id: {}\\n'.format(ds))\n",
    "    f.write('ds on site: https://staging.resourcewatch.org/data/explore/{}\\n\\n'.format(ds))\n",
    "    f.write('~ layers ~\\n\\n')\n",
    "    list(map(lambda l: pick_layer_info(l,f), layers))\n",
    "    f.write('\\n')\n",
    "\n",
    "list(map(lambda i: record_layers(i,f), current_datasets_on_api['layers'].items()))\n",
    "\n",
    "f.close()"
   ]
  },
  {
   "cell_type": "markdown",
   "metadata": {},
   "source": [
    "# Pull out all widget names and definitions\n",
    "* Link to data set detail page\n",
    "* For each widget:\n",
    "* * Widget name\n",
    "* * Widget description"
   ]
  },
  {
   "cell_type": "code",
   "execution_count": 33,
   "metadata": {
    "collapsed": false
   },
   "outputs": [
    {
     "data": {
      "text/plain": [
       "Dataset\n",
       "f6d8caef-578f-4afe-a8de-f5e972c43f0c                                                   []\n",
       "d3f50041-2fbd-4749-b8c5-73d14f35193a    [{'id': 'fb5218b2-3073-4b8d-a770-55bc16b770cc'...\n",
       "acf42a1b-104b-4f81-acd0-549f805873fb                                                   []\n",
       "57156462-e47b-4e25-88bc-610ad55c35bc                                                   []\n",
       "6b8442f5-4766-4444-94b4-d6676277fd80    [{'id': '0e81e05e-c506-4994-91f0-4f79acbe454d'...\n",
       "917f1945-fff9-4b6f-8290-4f4b9417079e    [{'id': 'c8a973d1-7600-4950-aded-9ef74cfe3080'...\n",
       "b8a6a6ea-7d2f-4d59-bb5e-7143a2ddc1fe    [{'id': '940e2242-c7b8-40bd-9c55-2156976a63bb'...\n",
       "a290675c-9528-4a51-8201-f6c2d7848744    [{'id': 'ed53f98b-990d-49ab-aa73-cdd71d0bdd75'...\n",
       "fa6443ff-eb95-4d0f-84d2-f0c91682efdf    [{'id': '8c44a854-63e7-4ce6-b864-4858c7394852'...\n",
       "26fe7429-9087-434b-b9d1-856881a34f4a                                                   []\n",
       "66d1bba4-ccf4-415e-a2d0-f607c6304994                                                   []\n",
       "018719a6-009b-4b04-970d-08b93c8192cb    [{'id': '95e3345d-fd60-4e94-8654-1f46f7a75cd2'...\n",
       "94d3d000-1e12-46a1-be28-d9790233e2d2    [{'id': 'acf70eed-172a-41a2-940f-f74e01db7715'...\n",
       "41397376-593d-4bfc-95c2-f18bb9ddaf71                                                   []\n",
       "5e3a3a9f-7380-47c0-ad84-2c193861e106    [{'id': '5aaddb37-eca4-49fd-89b0-18e55c00a805'...\n",
       "c18a38cd-94ff-48cd-818f-6ffb05992abb    [{'id': 'c77bc834-d1e6-4b5b-91de-81e72dcfcb9d'...\n",
       "fe311144-8c0e-4440-b068-6efd057e0f6a    [{'id': 'fbea5e0a-8e38-4c6c-a14a-865e9287fd45'...\n",
       "3d2ce960-abda-4c9c-bd29-1929e9ca24c9    [{'id': 'b9192492-20f3-4725-8e90-8795f2176329'...\n",
       "10337db6-8321-445e-a60b-28fc1e114f29    [{'id': '32caf06d-b02a-440a-ac60-ba4ebec4ffb3'...\n",
       "6b670396-c52c-430c-b5bb-20693da03b60    [{'id': 'c4bac72c-04b4-44d8-b220-40b0779e8ffb'...\n",
       "37d04efc-0ab2-4499-a891-54dca1013c74    [{'id': 'ac7c76c3-481e-42f5-9db8-d61d6f47b4d3'...\n",
       "b37048be-9b23-4458-a047-888956c69aa1    [{'id': '6ba10980-af9b-4990-8a8b-9f375c416d55'...\n",
       "8671f536-1979-4b6f-a147-70152fcb44ed    [{'id': 'cedf5035-2165-4c3c-a7b2-c1f97e041dcc'...\n",
       "7793f46c-a48a-466f-a8ce-ca1a87b7aeed    [{'id': 'f5e7f529-cf66-45d7-9907-c7598f84f6fc'...\n",
       "f8d3e79c-c3d0-4f9a-9b68-9c5ad1f025e4    [{'id': '7e03a3d1-92a8-4532-9988-7b63d47be81e'...\n",
       "e8f53f73-d77c-485a-a2a6-1c47ea4aead9    [{'id': 'f8bce6ca-068d-475b-8d8a-78c1722387c5'...\n",
       "00abb46f-34e2-4bf7-be30-1fb0b1de022f    [{'id': '477057db-3d6e-4559-b8e1-5b790653aad3'...\n",
       "a89c95c7-0b82-4162-b9d8-cc0205e9f7ec    [{'id': '611c3988-95ff-4fc8-95ad-c0f666534d5c'...\n",
       "bea122ce-1e4b-465d-8b7b-fa11aadd20f7    [{'id': '3fbb83ce-670f-4f78-9c9b-bf8e2ae8710e'...\n",
       "95b013a3-389a-4367-83b7-c9d68c28c406    [{'id': '7f2fbb97-537f-4a72-baae-cba75fbd8d3b'...\n",
       "                                                              ...                        \n",
       "65c0e15b-dad0-4681-934e-91c0a378d2fb    [{'id': 'f74f8435-cd44-4296-bbde-e4d9442083f9'...\n",
       "bab30f88-eb92-4aac-ba6d-fb7c61f4b7d3                                                   []\n",
       "585938cd-a438-43e8-b1de-bc767a98e0df                                                   []\n",
       "b18320f6-2d8b-4776-8f60-55bce10f7957    [{'id': 'fd2e2a6e-f2cf-4d61-a66e-b79f39854b0c'...\n",
       "63a7a997-695d-4629-b6e9-9b169f5c69bf                                                   []\n",
       "ddac9a5a-1b8a-4c04-b47e-70ef527addc1    [{'id': 'f41f5a63-52ce-42cc-80e7-2749f14482ba'...\n",
       "c48f0582-164f-4faa-97a2-7ad2e3111d3d                                                   []\n",
       "bbadb233-84ea-4ae1-893f-deba67f1d5de                                                   []\n",
       "ac750026-e66d-4403-b607-efcf01189d21                                                   []\n",
       "ec8359f3-4b35-4212-9482-3e34c55a3ef5                                                   []\n",
       "b9ae853a-8e80-4c99-8bc8-30973b029710                                                   []\n",
       "c8040a7a-a40f-48bd-b003-625c33beff5e                                                   []\n",
       "c9c9cb2f-9655-4f40-8736-9b407ee43514                                                   []\n",
       "9e7dc020-5a93-4df8-b81e-ee3e7bf32764                                                   []\n",
       "e66121ff-b785-4f27-aa1b-180af31a17cc    [{'id': 'cae15735-4958-4f19-9023-5ae9bfeacda4'...\n",
       "ad790c87-fe9e-4405-891d-de7c2ddfda79                                                   []\n",
       "7a213f00-5be7-4f11-a859-3b9058dae2e6                                                   []\n",
       "42de3f98-ba1c-4572-a227-2e18d45239a5                                                   []\n",
       "b4dbb3a5-654f-4f36-aa32-c28f7406d6f4                                                   []\n",
       "3b7c3e8f-f7c0-466f-8f7c-01d73afc0988                                                   []\n",
       "efa4d726-64d7-4fd5-835c-402fd22d171b    [{'id': '6e7e4bf9-cca7-47c1-b392-fb173bbc50e7'...\n",
       "32324f22-e7f6-4e0d-bc38-d82c6484f1be    [{'id': 'e8282e04-645b-4596-ae9b-f7b5e8c1b64a'...\n",
       "88648f97-35a5-4384-b141-ac00b4f66209    [{'id': 'f4ba46ba-bc15-47be-8c79-97411fcf007b'...\n",
       "2b569ae2-9452-44f8-9c81-3c3afb6c3c25                                                   []\n",
       "9d9b48d3-152d-48c3-8c2a-2957ddb601a1                                                   []\n",
       "9d03913c-050c-4080-b396-36724e557f94                                                   []\n",
       "e94f0e2d-2b5f-41ed-967f-d97e54dd81ea                                                   []\n",
       "3c473fd2-2e82-48ce-8f16-c14a104655eb    [{'id': '2c613f97-973b-4b33-8906-a904396ab7d5'...\n",
       "11a8995c-051f-455c-9b94-c868f2161894    [{'id': '5ab7cfe5-73b1-433d-82dc-351f9f08d51c'...\n",
       "90a76816-cb42-49e0-a736-9c3d82cb0d59    [{'id': '2b0b8fed-539c-48a4-88a3-9d766c0e97eb'...\n",
       "Name: widgets, Length: 328, dtype: object"
      ]
     },
     "execution_count": 33,
     "metadata": {},
     "output_type": "execute_result"
    }
   ],
   "source": [
    "current_datasets_on_api['widgets']"
   ]
  },
  {
   "cell_type": "code",
   "execution_count": 29,
   "metadata": {
    "collapsed": false
   },
   "outputs": [],
   "source": [
    "try:\n",
    "    os.unlink('widget_info.txt')\n",
    "except:\n",
    "    pass\n",
    "\n",
    "f = open('widget_info.txt', 'a')\n",
    "\n",
    "def pick_widget_info(widget, f):\n",
    "    s_atts = widget['attributes']\n",
    "    t_atts = ['name', 'description']\n",
    "    f.write('widget id: {}\\n'.format(widget['id']))\n",
    "    for att in t_atts:\n",
    "        if att in s_atts:\n",
    "            f.write('{}: {}\\n'.format(att, s_atts[att]))\n",
    "    f.write('\\n')\n",
    "            \n",
    "            \n",
    "def record_widgets(info, f):\n",
    "    ds = info[0]\n",
    "    widgets = info[1]\n",
    "    f.write('** NEW DATASET **\\n')\n",
    "    f.write('ds id: {}\\n'.format(ds))\n",
    "    f.write('ds on site: https://staging.resourcewatch.org/data/explore/{}\\n\\n'.format(ds))\n",
    "    f.write('~ widgets ~\\n\\n')\n",
    "    list(map(lambda l: pick_widget_info(l,f), widgets))\n",
    "    f.write('\\n')\n",
    "\n",
    "list(map(lambda i: record_widgets(i,f), current_datasets_on_api['widgets'].items()))\n",
    "\n",
    "f.close()"
   ]
  }
 ],
 "metadata": {
  "kernelspec": {
   "display_name": "Python 3",
   "language": "python",
   "name": "python3"
  },
  "language_info": {
   "codemirror_mode": {
    "name": "ipython",
    "version": 3
   },
   "file_extension": ".py",
   "mimetype": "text/x-python",
   "name": "python",
   "nbconvert_exporter": "python",
   "pygments_lexer": "ipython3",
   "version": "3.6.0"
  }
 },
 "nbformat": 4,
 "nbformat_minor": 2
}
