{
 "cells": [
  {
   "cell_type": "markdown",
   "metadata": {},
   "source": [
    "# Import libraries"
   ]
  },
  {
   "cell_type": "code",
   "execution_count": null,
   "metadata": {
    "collapsed": true
   },
   "outputs": [],
   "source": [
    "import pandas as pd\n",
    "pd.options.display.max_columns = 200\n",
    "\n",
    "import requests as req\n",
    "import json\n",
    "import boto3\n",
    "import io\n",
    "\n",
    "import sys\n",
    "#import logging\n",
    "import os\n",
    "#logging.basicConfig(stream=sys.stderr, level=logging.DEBUG)\n",
    "import random\n",
    "\n",
    "from functools import reduce\n",
    "from collections import defaultdict"
   ]
  },
  {
   "cell_type": "markdown",
   "metadata": {},
   "source": [
    "# Constants"
   ]
  },
  {
   "cell_type": "code",
   "execution_count": null,
   "metadata": {
    "collapsed": true
   },
   "outputs": [],
   "source": [
    "API_KEY = os.environ.get('rw_api_key', None)\n",
    "CARTO_USER = 'wri-rw'#os.environ.get('CARTO_USER')\n",
    "CARTO_KEY = ''#os.environ.get('CARTO_KEY')"
   ]
  },
  {
   "cell_type": "markdown",
   "metadata": {},
   "source": [
    "# Load data, layer config information"
   ]
  },
  {
   "cell_type": "code",
   "execution_count": null,
   "metadata": {
    "collapsed": true
   },
   "outputs": [],
   "source": [
    "# Read in data sets info from config file\n",
    "layer_config = pd.read_csv('/Users/nathansuberi/Desktop/RW_Data/layer_making_tasks/layer_these.csv')\n",
    "layer_config = layer_config.set_index('wri_id')\n",
    "layer_config"
   ]
  },
  {
   "cell_type": "code",
   "execution_count": null,
   "metadata": {
    "collapsed": true
   },
   "outputs": [],
   "source": [
    "cc = cartoframes.CartoContext(base_url='https://{}.carto.com/'.format(CARTO_USER),\n",
    "                              api_key=CARTO_KEY)\n",
    "\n",
    "# Load data sets into memory for processing\n",
    "def load_data(obj, elem):\n",
    "    print(elem)\n",
    "    wri_id = elem[0].strip()\n",
    "    rw_id = elem[1].strip()\n",
    "    try:\n",
    "        table_name = carto_data.loc[rw_id]['table_name']\n",
    "        obj[wri_id] = cc.read(table_name)\n",
    "        print('Table shape: {}'.format(obj[wri_id].shape))\n",
    "    except:\n",
    "        obj[wri_id] = 'Unavailable'\n",
    "        print('Unavailable')\n",
    "    return obj\n",
    "\n",
    "data_tables = reduce(load_data, zip(georef_config.index,georef_config['rw_id']), {})"
   ]
  },
  {
   "cell_type": "markdown",
   "metadata": {},
   "source": [
    "# Examining existing layers"
   ]
  },
  {
   "cell_type": "code",
   "execution_count": null,
   "metadata": {
    "collapsed": true
   },
   "outputs": [],
   "source": [
    "def grab_layer_defs(obj, elem):\n",
    "    print(elem)\n",
    "    wri_id = elem[0].strip()\n",
    "    rw_id = elem[1].strip()\n",
    "    try:\n",
    "        obj[wri_id] = carto_data.loc[rw_id]['layers']\n",
    "        print('Num layers: {}'.format(len(obj[wri_id])))\n",
    "    except:\n",
    "        obj[wri_id] = 'No Layers'\n",
    "        print('Layers Unavailable')\n",
    "    return obj\n",
    "\n",
    "data_layers = reduce(grab_layer_defs, zip(georef_config.index,georef_config['rw_id']), {})\n",
    "data_layers\n",
    "\n",
    "# Find which layers already have the join language in them\n",
    "\n",
    "def find_join_sql(obj, ds):\n",
    "    rw_id = ds[0]\n",
    "    layers = ds[1]\n",
    "    try:\n",
    "        obj[rw_id] = [layerdef['attributes']['layerConfig']['body']['layers'][0]['options']['sql'] for layerdef in layers]\n",
    "    except:\n",
    "        obj[rw_id] = None \n",
    "    \n",
    "    return obj\n",
    "\n",
    "def find_interaction(obj, ds):\n",
    "    rw_id = ds[0]\n",
    "    layers = ds[1]\n",
    "    try:\n",
    "        obj[rw_id] = [layerdef['attributes']['interactionConfig']['output'] for layerdef in layers]\n",
    "    except:\n",
    "        obj[rw_id] = None\n",
    "    \n",
    "    return obj\n",
    "\n",
    "sql_to_change = reduce(find_join_sql, data_layers.items(), {})\n",
    "print(\"Existing SQL:\")\n",
    "print(sql_to_change)\n",
    "\n",
    "print()\n",
    "interaction_configs = reduce(find_interaction, data_layers.items(), {})\n",
    "print(\"Existing interaction config:\")\n",
    "print(interaction_configs)"
   ]
  },
  {
   "cell_type": "markdown",
   "metadata": {},
   "source": [
    "# Generate new layers"
   ]
  },
  {
   "cell_type": "code",
   "execution_count": null,
   "metadata": {
    "collapsed": true
   },
   "outputs": [],
   "source": [
    "# Augment needed layers w/ correct SQL and Interaction config\n",
    "\n",
    "## REDUCE\n",
    "def setup_interaction_config(obj, col, ds):\n",
    "    _type = str(ds[col].dtype)\n",
    "    if _type == 'object':\n",
    "        _type = 'string'\n",
    "    if _type in ['int64', 'float64']:\n",
    "        _type = 'numeric'\n",
    "        \n",
    "    template = {'column': col,\n",
    "      'format': None,\n",
    "      'prefix': '',\n",
    "      'property': col,\n",
    "      'suffix': '',\n",
    "      'type': _type}\n",
    "    \n",
    "    obj.append(template)\n",
    "    return obj\n",
    "\n",
    "def gen_sql(data_col, table_name, date_col, year, filter_col, filter_val):\n",
    "    basesql = ('SELECT wri.cartodb_id, ST_Transform(wri.the_geom, 3857)' +\n",
    "    ' AS the_geom_webmercator, rw_country_name,' +\n",
    "    ' EXTRACT(YEAR FROM data.{}) AS year,'+\n",
    "    ' data.{} FROM {} data'+\n",
    "    ' LEFT OUTER JOIN wri_countries_a wri' +\n",
    "    ' ON data.rw_country_code = wri.iso_a3' + \n",
    "    ' WHERE {} IS NOT NULL AND EXTRACT(YEAR FROM {})={}' )\n",
    "    if filter_col:\n",
    "        sql = basesql + ' AND {} ILIKE {}'\n",
    "        return sql.format(date_col, data_col, table_name, data_col, date_col, year, filter_col, filter_val)\n",
    "    else:\n",
    "        return basesql.format(date_col, data_col, table_name, data_col, date_col, year)\n",
    "\n",
    "\n",
    "def pick_color(ix):\n",
    "    poss = '0123456789abcdef'\n",
    "    col = '#'\n",
    "    for i in range(6):\n",
    "        col += random.choice(poss)\n",
    "    return col\n",
    "    \n",
    "def gen_cartocss_legend(col, ds):\n",
    "    _type = str(ds[col].dtype)\n",
    "    if _type == 'object':\n",
    "        _type = 'string'\n",
    "    if _type in ['int64', 'float64']:\n",
    "        _type = 'numeric'\n",
    "        \n",
    "    print('Type of data: {}'.format(_type))\n",
    "    if _type == 'string':\n",
    "        breaks = list(ds[col].unique())\n",
    "        colors = list(map(pick_color, range(len(breaks))))\n",
    "        \n",
    "        cartocss = '#table {polygon-opacity: 1; line-width: 0.5; line-color: #FFF; line-opacity: 1;}'   \n",
    "        legend = []\n",
    "        for brk, clr in zip(breaks, colors):\n",
    "            cartocss += ' [{} = {}]?1polygon-fill:{} ;?2'.format(col,brk,clr)\n",
    "            legend.append({'color':clr, 'name':brk})\n",
    "        cartocss = cartocss.replace('?1', '{').replace('?2', '}')\n",
    "        \n",
    "    if _type == 'numeric':\n",
    "        # Make breaks by quintiles\n",
    "        q0 = ds[col].quantile(0)\n",
    "        q20 = ds[col].quantile(.20)\n",
    "        q40 = ds[col].quantile(.40)\n",
    "        q60 = ds[col].quantile(.60)\n",
    "        q80 = ds[col].quantile(.80)\n",
    "        q100 = ds[col].quantile(1.00)\n",
    "        breaks = [q0,q20,q40,q60,q80,q100]\n",
    "        colors = list(map(pick_color, range(len(breaks))))\n",
    "        cartocss = '#table {polygon-opacity: 1; line-width: 0.5; line-color: #FFF; line-opacity: 1;}'\n",
    "        cartocss += ' [{} > {}]?1polygon-fill:{} ;?2'.format(col,breaks[0],colors[0])\n",
    "        legend = [{'color':colors[0], 'name':'>{}'.format(breaks[0])}]\n",
    "        for i in range(1,len(breaks)-1):\n",
    "            cartocss += ' [{} > {}][{} < {}]?1polygon-fill:{} ;?2'.format(col,breaks[i],col,breaks[i+1],colors[i])\n",
    "            legend.append({'color':colors[i], 'name':'<{}'.format(breaks[i+1])})\n",
    "        cartocss = cartocss.replace('?1', '{').replace('?2', '}')\n",
    "       \n",
    "    return cartocss, legend\n",
    "\n",
    "\n",
    "### Generating entire layer def\n",
    "\n",
    "def gen_layer(wri_id, data_col, date_col, year, slider, filter_col, filter_val):\n",
    "    cartocss, legend = gen_cartocss_legend(data_col, data_tables[wri_id])\n",
    "    rw_id = georef_config.loc[wri_id, 'rw_id'].strip()\n",
    "    table_name = carto_data.loc[rw_id]['table_name']\n",
    "    layer_template = {'attributes': {'application': ['rw'],\n",
    "      'applicationConfig': {},\n",
    "      'dataset': georef_config.loc[wri_id,'rw_id'],\n",
    "      'default': False,\n",
    "      'description': '',\n",
    "      'env': 'production',\n",
    "      'interactionConfig': reduce(lambda obj, col: setup_interaction_config(obj, col, data_tables[wri_id]), data_tables[wri_id].columns, []),\n",
    "      'iso': [],\n",
    "      'layerConfig': {'account': 'wri-rw',\n",
    "       'body': {'layers': [{'options': {'cartocss': cartocss,\n",
    "           'cartocss_version': '2.3.0',\n",
    "           'sql': gen_sql(data_col, table_name, date_col, year, filter_col, filter_val)},\n",
    "          'type': 'mapnik'}],\n",
    "        'maxzoom': 18,\n",
    "        'minzoom': 3}},\n",
    "      'legendConfig': {'items': legend,\n",
    "       'type': 'choropleth'},\n",
    "      'name': '',\n",
    "      'protected': False,\n",
    "      'provider': 'cartodb'},\n",
    "     'id': '',\n",
    "     'type': 'layer'}\n",
    "\n",
    "    if slider:\n",
    "        layer_template['attributes']['layerConfig']['timeline'] = True\n",
    "        layer_template['attributes']['layerConfig']['order'] = int(year)\n",
    "        layer_template['attributes']['layerConfig']['timelineLabel'] = str(year)\n",
    "   \n",
    "    return layer_template\n",
    "        \n",
    "layers = defaultdict(list)\n",
    "\n",
    "layer_prep = {\n",
    "    'com.009':\n",
    "}\n",
    "\n",
    "for wri_id, data in georefed_data.items():\n",
    "    if type(data) == str:\n",
    "        continue \n",
    "        \n",
    "    print(wri_id)\n",
    "    print(data.columns)\n",
    "    data_col = input('data column?')\n",
    "    if not data_col:\n",
    "        layers[wri_id] = 'Skipping'\n",
    "        continue\n",
    "    \n",
    "    date_col = input('date column?')\n",
    "    slider = input('make slider? type anything for yes')\n",
    "    slider = True if slider else False\n",
    "    filter_col = input('filter col?')\n",
    "    filter_col = filter_col if filter_col else None\n",
    "    if filter_col:\n",
    "        filter_opts = [fltr for fltr in data[filter_col].unique() if fltr]\n",
    "    else:\n",
    "        filter_opts = [None]\n",
    "        \n",
    "    print('Available dates: {}'.format(sorted(data[date_col].unique())))\n",
    "   \n",
    "    flag = True\n",
    "    while flag:\n",
    "        year = input('year for layer?')\n",
    "        for fltr in filter_opts:\n",
    "            layer = gen_layer(wri_id, data_col, date_col, year, slider, filter_col, fltr)\n",
    "            layers[wri_id].append(layer)\n",
    "\n",
    "        if slider:\n",
    "            flag = input('Make another layer for this data set? type anything for yes')\n",
    "            flag = True if flag else False\n",
    "        else:\n",
    "            flag = False"
   ]
  },
  {
   "cell_type": "markdown",
   "metadata": {},
   "source": [
    "# Examining a particular layer"
   ]
  },
  {
   "cell_type": "code",
   "execution_count": null,
   "metadata": {
    "collapsed": true
   },
   "outputs": [],
   "source": [
    "carto_data.loc[carto_data['name'].str.lower().str.contains('conflict')]\n",
    "# aliases set in Interaction Config\n",
    "carto_data.loc['ea208a8b-4559-434b-82ee-95e041596a3a', 'layers']\n",
    "# aliases set in dataset\n",
    "carto_data.loc['ea208a8b-4559-434b-82ee-95e041596a3a']\n",
    "\n",
    "url = \"https://api.resourcewatch.org/v1/dataset/ea208a8b-4559-434b-82ee-95e041596a3a?sort=slug,-provider,userId&status=saved&includes=metadata,vocabulary,widget,layer\"\n",
    "\n",
    "# page[size] tells the API the maximum number of results to send back\n",
    "# There are currently between 200 and 300 datasets on the RW API\n",
    "payload = { \"application\":\"rw\", \"page[size]\": 1000}\n",
    "\n",
    "# Request all datasets, and extract the data from the response\n",
    "res = req.get(url, params=payload)\n",
    "data = res.json()[\"data\"]\n",
    "data"
   ]
  }
 ],
 "metadata": {
  "kernelspec": {
   "display_name": "Python 3",
   "language": "python",
   "name": "python3"
  },
  "language_info": {
   "codemirror_mode": {
    "name": "ipython",
    "version": 3
   },
   "file_extension": ".py",
   "mimetype": "text/x-python",
   "name": "python",
   "nbconvert_exporter": "python",
   "pygments_lexer": "ipython3",
   "version": "3.6.0"
  }
 },
 "nbformat": 4,
 "nbformat_minor": 2
}
