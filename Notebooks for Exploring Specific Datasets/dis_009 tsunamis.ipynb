{
 "cells": [
  {
   "cell_type": "code",
   "execution_count": 23,
   "metadata": {
    "collapsed": true
   },
   "outputs": [],
   "source": [
    "import pandas as pd\n",
    "import requests as req\n",
    "import cartoframes\n",
    "from datetime import datetime"
   ]
  },
  {
   "cell_type": "code",
   "execution_count": 36,
   "metadata": {
    "collapsed": true
   },
   "outputs": [],
   "source": [
    "DATE_FORMAT = '%Y-%m-%d %H:%M:%S'"
   ]
  },
  {
   "cell_type": "code",
   "execution_count": 37,
   "metadata": {
    "collapsed": false
   },
   "outputs": [
    {
     "name": "stdout",
     "output_type": "stream",
     "text": [
      "-2000 1 1 1 1 1\n",
      "year is out of range\n",
      "-1610 1 1 1 1 1\n",
      "year is out of range\n",
      "-1365 1 1 1 1 1\n",
      "year is out of range\n",
      "-1300 1 1 1 1 1\n",
      "year is out of range\n",
      "-760 1 1 1 1 1\n",
      "year is out of range\n",
      "-590 1 1 1 1 1\n",
      "year is out of range\n",
      "-525 1 1 1 1 1\n",
      "year is out of range\n",
      "-480 9 29 1 1 1\n",
      "year is out of range\n",
      "-479 1 1 1 1 1\n",
      "year is out of range\n",
      "-426 6 1 1 1 1\n",
      "year is out of range\n",
      "-373 1 1 1 1 1\n",
      "year is out of range\n",
      "-330 1 1 1 1 1\n",
      "year is out of range\n",
      "-326 11 1 1 1 1\n",
      "year is out of range\n",
      "-227 1 1 1 1 1\n",
      "year is out of range\n",
      "-226 1 1 1 1 1\n",
      "year is out of range\n",
      "-223 10 1 1 1 1\n",
      "year is out of range\n",
      "-218 1 1 1 1 1\n",
      "year is out of range\n",
      "-210 1 1 1 1 1\n",
      "year is out of range\n",
      "-198 1 1 1 1 1\n",
      "year is out of range\n",
      "-150 1 1 1 1 1\n",
      "year is out of range\n",
      "-138 1 1 1 1 1\n",
      "year is out of range\n",
      "-60 1 1 1 1 1\n",
      "year is out of range\n",
      "-58 1 1 1 1 1\n",
      "year is out of range\n",
      "-50 1 1 1 1 1\n",
      "year is out of range\n",
      "-50 1 1 1 1 1\n",
      "year is out of range\n",
      "-47 9 1 1 1 1\n",
      "year is out of range\n",
      "-23 1 1 1 1 1\n",
      "year is out of range\n",
      "1854 2 29 1 1 1\n",
      "day is out of range for month\n",
      "No year!\n"
     ]
    }
   ],
   "source": [
    "cc = cartoframes.CartoContext()\n",
    "\n",
    "data = req.get('https://ngdc.noaa.gov/nndc/struts/results?type_0=Exact&query_0=$ID&t=101650&s=69&d=59&dfn=tsevent.txt').text\n",
    "data = data.split('\\n')\n",
    "lines = [line.split('\\t') for line in data]\n",
    "header = lines[0]\n",
    "rows = lines[1:]\n",
    "df = pd.DataFrame(rows)\n",
    "df.columns = header\n",
    "\n",
    "def create_date(year, month, day, hour, minute, second):\n",
    "    if year:\n",
    "        try:\n",
    "            year = int(year)\n",
    "            month = int(month) if month else 1\n",
    "            day = int(day) if day else 1\n",
    "            hour = int(hour) if hour else 1\n",
    "            minute = int(minute) if minute else 1\n",
    "            second = int(float(second)) if second else 1\n",
    "            return datetime(year, month, day, hour, minute, second).strftime(DATE_FORMAT)\n",
    "        except Exception as e:\n",
    "            print(year, month, day, hour, minute, second)\n",
    "            print(e)\n",
    "    else:\n",
    "        print('No year!')\n",
    "\n",
    "df['datetime'] = list(map(lambda dates: create_date(*dates), zip(df['YEAR'],df['MONTH'], df['DAY'], df['HOUR'], df['MINUTE'], df['SECOND'])))"
   ]
  },
  {
   "cell_type": "code",
   "execution_count": 39,
   "metadata": {
    "collapsed": false
   },
   "outputs": [
    {
     "data": {
      "text/plain": [
       "Index(['ID', 'YEAR', 'MONTH', 'DAY', 'HOUR', 'MINUTE', 'SECOND',\n",
       "       'EVENT_VALIDITY', 'CAUSE_CODE', 'FOCAL_DEPTH', 'PRIMARY_MAGNITUDE',\n",
       "       'COUNTRY', 'STATE', 'LOCATION_NAME', 'LATITUDE', 'LONGITUDE',\n",
       "       'REGION_CODE', 'MAXIMUM_WATER_HEIGHT', 'ABE', 'IIDA', 'SOLOVIEV',\n",
       "       'WARNING_STATUS', 'DEATHS', 'DEATHS_DESCRIPTION', 'MISSING',\n",
       "       'MISSING_DESCRIPTION', 'INJURIES', 'INJURIES_DESCRIPTION',\n",
       "       'DAMAGE_MILLIONS_DOLLARS', 'DAMAGE_DESCRIPTION', 'HOUSES_DESTROYED',\n",
       "       'HOUSES_DESTROYED_DESCRIPTION', 'HOUSES_DAMAGED',\n",
       "       'HOUSES_DAMAGED_DESCRIPTION', 'TOTAL_DEATHS',\n",
       "       'TOTAL_DEATHS_DESCRIPTION', 'TOTAL_MISSING',\n",
       "       'TOTAL_MISSING_DESCRIPTION', 'TOTAL_INJURIES',\n",
       "       'TOTAL_INJURIES_DESCRIPTION', 'TOTAL_DAMAGE_MILLIONS_DOLLARS',\n",
       "       'TOTAL_DAMAGE_DESCRIPTION', 'TOTAL_HOUSES_DESTROYED',\n",
       "       'TOTAL_HOUSES_DESTROYED_DESCRIPTION', 'TOTAL_HOUSES_DAMAGED',\n",
       "       'TOTAL_HOUSES_DAMAGED_DESCRIPTION', 'datetime'],\n",
       "      dtype='object')"
      ]
     },
     "execution_count": 39,
     "metadata": {},
     "output_type": "execute_result"
    }
   ],
   "source": [
    "df.columns"
   ]
  },
  {
   "cell_type": "code",
   "execution_count": null,
   "metadata": {
    "collapsed": true
   },
   "outputs": [],
   "source": []
  },
  {
   "cell_type": "code",
   "execution_count": 24,
   "metadata": {
    "collapsed": false
   },
   "outputs": [
    {
     "data": {
      "text/plain": [
       "datetime.datetime(2000, 1, 1, 0, 0)"
      ]
     },
     "execution_count": 24,
     "metadata": {},
     "output_type": "execute_result"
    }
   ],
   "source": [
    ")_datetime(2000,1,1)"
   ]
  }
 ],
 "metadata": {
  "kernelspec": {
   "display_name": "Python 3",
   "language": "python",
   "name": "python3"
  },
  "language_info": {
   "codemirror_mode": {
    "name": "ipython",
    "version": 3
   },
   "file_extension": ".py",
   "mimetype": "text/x-python",
   "name": "python",
   "nbconvert_exporter": "python",
   "pygments_lexer": "ipython3",
   "version": "3.6.0"
  }
 },
 "nbformat": 4,
 "nbformat_minor": 2
}
